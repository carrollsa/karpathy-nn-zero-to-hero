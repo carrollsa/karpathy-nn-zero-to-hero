{
 "cells": [
  {
   "cell_type": "code",
   "execution_count": 191,
   "id": "8a99b61d",
   "metadata": {},
   "outputs": [],
   "source": [
    "import torch\n",
    "import torch.nn.functional as F\n",
    "import matplotlib.pyplot as plt # for making figures\n",
    "%matplotlib inline"
   ]
  },
  {
   "cell_type": "code",
   "execution_count": 192,
   "id": "75a63256",
   "metadata": {},
   "outputs": [
    {
     "data": {
      "text/plain": [
       "['emma', 'olivia', 'ava', 'isabella', 'sophia', 'charlotte', 'mia', 'amelia']"
      ]
     },
     "execution_count": 192,
     "metadata": {},
     "output_type": "execute_result"
    }
   ],
   "source": [
    "# read in all the words\n",
    "words = open('names.txt', 'r').read().splitlines()\n",
    "words[:8]"
   ]
  },
  {
   "cell_type": "code",
   "execution_count": 193,
   "id": "880c2cf3",
   "metadata": {},
   "outputs": [
    {
     "data": {
      "text/plain": [
       "32033"
      ]
     },
     "execution_count": 193,
     "metadata": {},
     "output_type": "execute_result"
    }
   ],
   "source": [
    "len(words)"
   ]
  },
  {
   "cell_type": "code",
   "execution_count": 194,
   "id": "207f34fe",
   "metadata": {},
   "outputs": [
    {
     "name": "stdout",
     "output_type": "stream",
     "text": [
      "{1: 'a', 2: 'b', 3: 'c', 4: 'd', 5: 'e', 6: 'f', 7: 'g', 8: 'h', 9: 'i', 10: 'j', 11: 'k', 12: 'l', 13: 'm', 14: 'n', 15: 'o', 16: 'p', 17: 'q', 18: 'r', 19: 's', 20: 't', 21: 'u', 22: 'v', 23: 'w', 24: 'x', 25: 'y', 26: 'z', 0: '.'}\n",
      "27\n"
     ]
    }
   ],
   "source": [
    "# build the vocabulary of characters and mappings to/from integers\n",
    "chars = sorted(list(set(''.join(words))))\n",
    "stoi = {s:i+1 for i,s in enumerate(chars)}\n",
    "stoi['.'] = 0\n",
    "itos = {i:s for s,i in stoi.items()}\n",
    "vocab_size = len(itos)\n",
    "print(itos)\n",
    "print(vocab_size)"
   ]
  },
  {
   "cell_type": "code",
   "execution_count": 195,
   "id": "2c77d1ee",
   "metadata": {},
   "outputs": [
    {
     "name": "stdout",
     "output_type": "stream",
     "text": [
      "torch.Size([182625, 3]) torch.Size([182625])\n",
      "torch.Size([22655, 3]) torch.Size([22655])\n",
      "torch.Size([22866, 3]) torch.Size([22866])\n"
     ]
    }
   ],
   "source": [
    "# build the dataset\n",
    "block_size = 3 # context length: how many characters do we take to predict the next one?\n",
    "\n",
    "def build_dataset(words):  \n",
    "    X, Y = [], []\n",
    "  \n",
    "    for w in words:\n",
    "        context = [0] * block_size\n",
    "        for ch in w + '.':\n",
    "            ix = stoi[ch]\n",
    "            X.append(context)\n",
    "            Y.append(ix)\n",
    "            context = context[1:] + [ix] # crop and append\n",
    "\n",
    "    X = torch.tensor(X)\n",
    "    Y = torch.tensor(Y)\n",
    "    print(X.shape, Y.shape)\n",
    "    return X, Y\n",
    "\n",
    "import random\n",
    "random.seed(42)\n",
    "random.shuffle(words)\n",
    "n1 = int(0.8*len(words))\n",
    "n2 = int(0.9*len(words))\n",
    "\n",
    "Xtr,  Ytr  = build_dataset(words[:n1])     # 80%\n",
    "Xdev, Ydev = build_dataset(words[n1:n2])   # 10%\n",
    "Xte,  Yte  = build_dataset(words[n2:])     # 10%"
   ]
  },
  {
   "cell_type": "code",
   "execution_count": 196,
   "id": "92e9f538",
   "metadata": {},
   "outputs": [
    {
     "name": "stdout",
     "output_type": "stream",
     "text": [
      "12097\n"
     ]
    }
   ],
   "source": [
    "# MLP revisited\n",
    "n_embd = 10 # the dimensionality of the character embedding vectors\n",
    "n_hidden = 200 # the number of neurons in the hidden layer of the MLP\n",
    "\n",
    "g = torch.Generator().manual_seed(2147483647) # for reproducibility\n",
    "C  = torch.randn((vocab_size, n_embd),            generator=g)\n",
    "# Added operation to bring values closer to 0 at initialization.\n",
    "# Preactivations being too high can cause squashing function to\n",
    "# squash the values to -1 or 1, essentially making the nodes passthrough\n",
    "# and killing their ability to learn.\n",
    "W1 = torch.randn((n_embd * block_size, n_hidden), generator=g) * (5/3)/((n_embd * block_size)**0.5) # on initialize, multiply by (gain / sqrt(fan_in)) https://pytorch.org/docs/stable/nn.init.html # kaiming_normal\n",
    "# b1 = torch.randn(n_hidden,                        generator=g) * 0.01\n",
    "W2 = torch.randn((n_hidden, vocab_size),          generator=g) * 0.01\n",
    "b2 = torch.randn(vocab_size,                      generator=g) * 0\n",
    "\n",
    "# BatchNorm parameters\n",
    "bngain = torch.ones((1, n_hidden))\n",
    "bnbias = torch.zeros((1, n_hidden))\n",
    "bnmean_running = torch.zeros((1, n_hidden))\n",
    "bnstd_running = torch.ones((1, n_hidden))\n",
    "\n",
    "parameters = [C, W1, W2, b2, bngain, bnbias]\n",
    "print(sum(p.nelement() for p in parameters)) # number of parameters in total\n",
    "for p in parameters:\n",
    "    p.requires_grad = True"
   ]
  },
  {
   "cell_type": "code",
   "execution_count": 197,
   "id": "b03694d2",
   "metadata": {
    "scrolled": true
   },
   "outputs": [
    {
     "name": "stdout",
     "output_type": "stream",
     "text": [
      "      0/  20000: 3.3239\n",
      "  10000/  20000: 2.0322\n"
     ]
    }
   ],
   "source": [
    "# same optimization as last time\n",
    "max_steps = 20000\n",
    "batch_size = 32\n",
    "lossi = []\n",
    "\n",
    "for i in range(max_steps):\n",
    "    \n",
    "    # minibatch construct\n",
    "    ix = torch.randint(0, Xtr.shape[0], (batch_size,), generator=g)\n",
    "    Xb, Yb = Xtr[ix], Ytr[ix] # batch X,Y\n",
    "\n",
    "    # forward pass\n",
    "    emb = C[Xb] # embed the characters into vectors\n",
    "    embcat = emb.view(emb.shape[0], -1) # concatenate the vectors\n",
    "    # Linear layer\n",
    "    hpreact = embcat @ W1 #+ b1 # hidden layer pre-activation\n",
    "    # BatchNorm layer\n",
    "    # -------------------------------------------------------------\n",
    "    bnmeani = hpreact.mean(0, keepdim=True)\n",
    "    bnstdi = hpreact.std(0, keepdim=True)\n",
    "    hpreact = bngain * (hpreact - bnmeani) / bnstdi + bnbias\n",
    "    with torch.no_grad():\n",
    "        bnmean_running = 0.999 * bnmean_running + 0.001 * bnmeani\n",
    "        bnstd_running = 0.999 * bnstd_running + 0.001 * bnstdi\n",
    "    # -------------------------------------------------------------\n",
    "    # Non-linearity\n",
    "    h = torch.tanh(hpreact) # hidden layer\n",
    "    logits = h @ W2 + b2 # output layer\n",
    "    loss = F.cross_entropy(logits, Yb) # loss function\n",
    "\n",
    "    # backward pass\n",
    "    for p in parameters:\n",
    "        p.grad = None\n",
    "    loss.backward()\n",
    "    \n",
    "    # update\n",
    "    lr = 0.1 if i < 100000 else 0.01 # step learning rate decay\n",
    "    for p in parameters:\n",
    "        p.data += -lr * p.grad\n",
    "        \n",
    "    #track stats\n",
    "    if i % 10000 == 0: # print every once in a while\n",
    "        print(f'{i:7d}/{max_steps:7d}: {loss.item():.4f}')\n",
    "        lossi.append(loss.log10().item())\n",
    "    \n",
    "    #break"
   ]
  },
  {
   "cell_type": "code",
   "execution_count": 148,
   "id": "1050fc9a",
   "metadata": {
    "scrolled": true
   },
   "outputs": [
    {
     "data": {
      "text/plain": [
       "[<matplotlib.lines.Line2D at 0x2ec19514670>]"
      ]
     },
     "execution_count": 148,
     "metadata": {},
     "output_type": "execute_result"
    },
    {
     "data": {
      "image/png": "[encoded data removed]",
      "text/plain": [
       "<Figure size 640x480 with 1 Axes>"
      ]
     },
     "metadata": {},
     "output_type": "display_data"
    }
   ],
   "source": [
    "plt.plot(lossi)"
   ]
  },
  {
   "cell_type": "code",
   "execution_count": 187,
   "id": "1635ea10",
   "metadata": {},
   "outputs": [],
   "source": [
    "# calibrate the batch norm at the end of training\n",
    "\n",
    "with torch.no_grad():\n",
    "    # pass the training set through\n",
    "    emb = C[Xtr]\n",
    "    embcat = emb.view(emb.shape[0], -1)\n",
    "    hpreact = embcat @ W1 # + b1\n",
    "    # measure the mean/std over the entire training set\n",
    "    bnmean = hpreact.mean(0, keepdim=True)\n",
    "    bnstd = hpreact.std(0, keepdim=True)"
   ]
  },
  {
   "cell_type": "code",
   "execution_count": 188,
   "id": "ab14f962",
   "metadata": {
    "scrolled": true
   },
   "outputs": [
    {
     "data": {
      "text/plain": [
       "tensor([[-1.5816e+00,  1.6654e-02, -1.1374e+00,  9.2894e-01,  7.3143e-01,\n",
       "          2.3539e-01,  1.2082e+00, -4.0648e-01,  3.2103e-01,  1.0803e+00,\n",
       "         -1.3943e+00, -1.5936e+00, -4.1541e-01, -4.1030e-01,  2.0321e-02,\n",
       "          3.4265e-01,  4.5872e-01, -1.5634e+00, -6.3642e-01,  9.0305e-01,\n",
       "          2.7461e-01, -2.1992e-01, -4.6876e-02,  4.9438e-01,  7.3139e-01,\n",
       "          8.1352e-01,  9.7980e-01, -1.5089e-01,  6.7362e-02,  1.0590e+00,\n",
       "         -4.7869e-01, -7.9198e-01,  2.9008e-01,  2.3689e-01, -2.4722e-01,\n",
       "         -8.6839e-01, -1.2301e+00, -1.9248e-01, -2.0647e-01,  3.3977e-01,\n",
       "         -2.1474e-01, -8.8541e-01, -5.4856e-01,  2.6787e-01,  3.5080e-01,\n",
       "         -1.2032e-01,  6.3036e-01, -1.5975e-01,  8.6124e-01,  1.2225e+00,\n",
       "          6.7260e-01,  1.0967e-01,  1.2015e+00,  1.0524e+00,  7.6517e-01,\n",
       "         -1.4524e+00, -1.7019e-01,  5.2047e-01,  1.2758e+00, -7.8020e-01,\n",
       "         -6.8363e-01,  4.2255e-01,  2.1357e-01,  1.6803e-01,  1.1221e+00,\n",
       "          6.6143e-01,  1.1037e-02,  6.2151e-01, -5.0367e-01, -6.0661e-01,\n",
       "          5.0915e-02,  6.7929e-01,  4.7501e-01, -1.0668e+00, -1.6966e+00,\n",
       "         -1.3820e-01,  8.5613e-01, -4.4000e-02,  3.3712e-01,  6.4432e-01,\n",
       "          3.8890e-01,  1.0561e+00,  7.9658e-01,  5.5634e-01,  3.2394e-01,\n",
       "         -4.8753e-01, -9.2819e-01,  2.9977e-01,  2.9912e-01, -1.6209e-01,\n",
       "         -7.8016e-01,  9.9574e-01, -2.3549e-01, -4.2525e-01, -6.4765e-01,\n",
       "          2.5172e-01, -3.5298e-01, -9.8116e-02,  3.8320e-01, -1.2442e+00,\n",
       "          3.3363e-01,  8.7726e-02, -1.4336e+00,  1.0876e+00, -2.7420e-03,\n",
       "         -4.0288e-04, -1.0669e+00, -1.4976e-01,  8.9499e-01, -9.1729e-01,\n",
       "          3.3404e-01,  5.9800e-01, -2.2824e-01,  1.6807e+00,  1.3040e+00,\n",
       "          1.3789e+00,  2.8556e-01,  2.8624e-02,  2.1595e-01, -1.7616e-01,\n",
       "         -7.9215e-01, -4.2548e-01,  6.0150e-01,  7.6752e-01, -6.1560e-01,\n",
       "         -6.8339e-02, -1.8055e-01, -8.4935e-01, -8.8602e-01, -1.6554e-01,\n",
       "          1.5034e+00, -6.9102e-01,  4.3158e-01,  9.4587e-01,  2.2187e-01,\n",
       "          1.5492e-01, -3.1346e-01,  6.8841e-01,  1.3250e-01,  3.9813e-01,\n",
       "          6.7610e-01, -8.6769e-02,  8.9910e-01,  1.2338e-01,  1.0742e+00,\n",
       "          8.1476e-01,  1.4131e+00, -5.1973e-02,  1.6185e-01, -3.4272e-02,\n",
       "         -1.0537e+00,  6.6020e-01,  7.3884e-01,  1.2362e+00,  4.5111e-01,\n",
       "         -1.1572e-01,  9.3252e-01, -9.0880e-01, -8.2781e-01,  4.7871e-01,\n",
       "          6.4755e-01, -4.4253e-01,  1.0737e-01, -1.7803e+00, -4.2587e-01,\n",
       "         -5.9320e-01,  5.8011e-01,  4.5204e-01, -1.1638e+00, -6.5864e-01,\n",
       "         -1.3605e-01, -8.5564e-01,  4.0309e-01, -4.6426e-01, -4.5807e-01,\n",
       "          1.1054e+00,  1.1090e+00, -5.4285e-01,  1.0833e+00, -8.5520e-01,\n",
       "          5.2528e-01,  8.9008e-01,  8.1018e-02,  5.2520e-03,  9.8947e-02,\n",
       "         -1.4027e-01, -1.2341e-01, -8.8339e-01,  1.9126e+00,  1.0773e+00,\n",
       "          2.9484e-01,  8.1731e-01, -2.2431e-01,  3.7555e-01,  2.5143e-01,\n",
       "          7.4733e-01,  1.3202e+00, -8.9731e-01, -4.8193e-02,  4.2728e-01]])"
      ]
     },
     "execution_count": 188,
     "metadata": {},
     "output_type": "execute_result"
    }
   ],
   "source": [
    "bnmean"
   ]
  },
  {
   "cell_type": "code",
   "execution_count": 189,
   "id": "8bf269ec",
   "metadata": {},
   "outputs": [
    {
     "data": {
      "text/plain": [
       "tensor([[-1.5413,  0.0270, -1.1268,  0.8980,  0.7018,  0.2189,  1.2349, -0.3846,\n",
       "          0.3153,  1.0361, -1.3514, -1.5733, -0.3636, -0.4014,  0.0307,  0.3009,\n",
       "          0.4725, -1.5595, -0.5959,  0.8794,  0.2503, -0.2356, -0.0641,  0.4943,\n",
       "          0.7101,  0.7979,  0.8648, -0.1771,  0.0318,  1.0807, -0.4643, -0.7873,\n",
       "          0.2704,  0.2118, -0.2343, -0.8355, -1.2030, -0.2253, -0.2083,  0.3567,\n",
       "         -0.2270, -0.8897, -0.5540,  0.2448,  0.3582, -0.1334,  0.5680, -0.2407,\n",
       "          0.7947,  1.2338,  0.6386,  0.1061,  1.1941,  1.0682,  0.7372, -1.4596,\n",
       "         -0.2032,  0.4971,  1.3082, -0.7659, -0.6854,  0.4371,  0.2263,  0.1735,\n",
       "          1.1189,  0.6687, -0.0409,  0.6519, -0.5306, -0.5528,  0.0604,  0.6909,\n",
       "          0.4991, -1.0533, -1.6523, -0.1363,  0.8948, -0.0478,  0.3362,  0.6754,\n",
       "          0.3787,  1.0693,  0.7667,  0.5532,  0.3055, -0.4417, -0.8841,  0.2934,\n",
       "          0.2917, -0.1232, -0.7294,  0.9458, -0.2254, -0.4043, -0.5780,  0.2446,\n",
       "         -0.4172, -0.0829,  0.3836, -1.2167,  0.3001,  0.0844, -1.3961,  1.0905,\n",
       "         -0.0092, -0.0211, -1.0733, -0.1503,  0.8517, -0.8818,  0.3449,  0.6287,\n",
       "         -0.2505,  1.7038,  1.2784,  1.3442,  0.2913,  0.0532,  0.2613, -0.1445,\n",
       "         -0.7833, -0.4470,  0.5704,  0.8435, -0.6159, -0.0265, -0.1620, -0.8436,\n",
       "         -0.8455, -0.1551,  1.4959, -0.6662,  0.4730,  0.8817,  0.1656,  0.1172,\n",
       "         -0.2306,  0.6211,  0.1248,  0.4139,  0.6482, -0.0723,  0.9181,  0.0755,\n",
       "          1.0749,  0.8049,  1.3770, -0.0614,  0.1985, -0.0174, -1.0053,  0.6764,\n",
       "          0.7262,  1.2231,  0.4349, -0.1377,  0.9162, -0.9109, -0.8088,  0.4799,\n",
       "          0.6349, -0.3553,  0.1477, -1.7641, -0.4432, -0.5947,  0.5676,  0.3986,\n",
       "         -1.1371, -0.6567, -0.1615, -0.8241,  0.4469, -0.4623, -0.4330,  1.0896,\n",
       "          1.1064, -0.5268,  1.0678, -0.8488,  0.5391,  0.9109,  0.0383,  0.0282,\n",
       "          0.1521, -0.1411, -0.1153, -0.8246,  1.9382,  1.0431,  0.2901,  0.8338,\n",
       "         -0.1822,  0.3855,  0.2118,  0.7215,  1.3393, -0.9570, -0.0151,  0.4186]])"
      ]
     },
     "execution_count": 189,
     "metadata": {},
     "output_type": "execute_result"
    }
   ],
   "source": [
    "bnmean_running"
   ]
  },
  {
   "cell_type": "code",
   "execution_count": 118,
   "id": "884a786f",
   "metadata": {},
   "outputs": [
    {
     "name": "stdout",
     "output_type": "stream",
     "text": [
      "train 2.3605451583862305\n",
      "val 2.4363131523132324\n"
     ]
    }
   ],
   "source": [
    "@torch.no_grad() # this decorator disables gradient tracking -- improves efficiency when .backward is not going to be called\n",
    "def split_loss(split):\n",
    "    x,y = {\n",
    "        'train': (Xtr, Ytr),\n",
    "        'val': (Xdev, Ydev),\n",
    "        'test': (Xte, Yte),\n",
    "    }[split]\n",
    "    emb = C[x] # (N, block_size, n_embd)\n",
    "    embcat = emb.view(emb.shape[0], -1) # concat into (N, block_size * n_embd)\n",
    "    hpreact = embcat @ W1 # hidden layer pre-activation\n",
    "    # hpreact = bngain * (hpreact - hpreact.mean(0, keepdim=True)) / hpreact.std(0, keepdim=True) + bnbias\n",
    "    hpreact = bngain * (hpreact - bnmean) / bnstd + bnbias\n",
    "    h = torch.tanh(embcat @ W1) # (N, n_hidden)\n",
    "    logits = h @ W2 + b2 # (N, vocab_size)\n",
    "    loss = F.cross_entropy(logits, y)\n",
    "    print(split, loss.item())\n",
    "\n",
    "split_loss('train')\n",
    "split_loss('val')"
   ]
  },
  {
   "cell_type": "code",
   "execution_count": 64,
   "id": "0e2ef816",
   "metadata": {},
   "outputs": [
    {
     "name": "stdout",
     "output_type": "stream",
     "text": [
      "carmah.\n",
      "ambrie.\n",
      "khy.\n",
      "mili.\n",
      "tatyanna.\n",
      "sane.\n",
      "rahnie.\n",
      "delynn.\n",
      "jareei.\n",
      "ner.\n",
      "kiah.\n",
      "maiha.\n",
      "kaleigh.\n",
      "ham.\n",
      "jois.\n",
      "quint.\n",
      "sulie.\n",
      "alianni.\n",
      "wanell.\n",
      "dearynn.\n"
     ]
    }
   ],
   "source": [
    "# sample from model\n",
    "g = torch.Generator().manual_seed(2147483647 + 10)\n",
    "\n",
    "for _ in range(20):\n",
    "    \n",
    "    out = []\n",
    "    context = [0] * block_size # initialize with all ...\n",
    "    while True:\n",
    "        # forward pass the neural net\n",
    "        emb = C[torch.tensor([context])] # (1,block_size,n_embd)\n",
    "        h = torch.tanh(emb.view(1, -1) @ W1 + b1)\n",
    "        logits = h @ W2 + b2\n",
    "        probs = F.softmax(logits, dim=1)\n",
    "        # sample from the distribution\n",
    "        ix = torch.multinomial(probs, num_samples=1, generator=g).item()\n",
    "        # shift the context window and track the samples\n",
    "        context = context[1:] + [ix]\n",
    "        out.append(ix)\n",
    "        # if we sample the special '.' token, break\n",
    "        if ix == 0:\n",
    "            break\n",
    "    \n",
    "    print(''.join(itos[i] for i in out)) # decode and print the generated word"
   ]
  }
 ],
 "metadata": {
  "kernelspec": {
   "display_name": "Python 3 (ipykernel)",
   "language": "python",
   "name": "python3"
  },
  "language_info": {
   "codemirror_mode": {
    "name": "ipython",
    "version": 3
   },
   "file_extension": ".py",
   "mimetype": "text/x-python",
   "name": "python",
   "nbconvert_exporter": "python",
   "pygments_lexer": "ipython3",
   "version": "3.10.9"
  }
 },
 "nbformat": 4,
 "nbformat_minor": 5
}
