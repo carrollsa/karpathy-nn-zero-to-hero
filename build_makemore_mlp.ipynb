{
 "cells": [
  {
   "cell_type": "code",
   "execution_count": 10,
   "id": "431a949e",
   "metadata": {},
   "outputs": [],
   "source": [
    "import torch\n",
    "import torch.nn.functional as F\n",
    "import matplotlib.pyplot as plt # for making figures\n",
    "%matplotlib inline"
   ]
  },
  {
   "cell_type": "code",
   "execution_count": 11,
   "id": "3d12cb22",
   "metadata": {},
   "outputs": [
    {
     "data": {
      "text/plain": [
       "['emma', 'olivia', 'ava', 'isabella', 'sophia', 'charlotte', 'mia', 'amelia']"
      ]
     },
     "execution_count": 11,
     "metadata": {},
     "output_type": "execute_result"
    }
   ],
   "source": [
    "# read in all the words\n",
    "words = open('names.txt', 'r').read().splitlines()\n",
    "words[:8]"
   ]
  },
  {
   "cell_type": "code",
   "execution_count": 4,
   "id": "dbe41b01",
   "metadata": {},
   "outputs": [
    {
     "data": {
      "text/plain": [
       "32033"
      ]
     },
     "execution_count": 4,
     "metadata": {},
     "output_type": "execute_result"
    }
   ],
   "source": [
    "len(words)"
   ]
  },
  {
   "cell_type": "code",
   "execution_count": 58,
   "id": "9ae0d577",
   "metadata": {},
   "outputs": [
    {
     "name": "stdout",
     "output_type": "stream",
     "text": [
      "{1: 'a', 2: 'b', 3: 'c', 4: 'd', 5: 'e', 6: 'f', 7: 'g', 8: 'h', 9: 'i', 10: 'j', 11: 'k', 12: 'l', 13: 'm', 14: 'n', 15: 'o', 16: 'p', 17: 'q', 18: 'r', 19: 's', 20: 't', 21: 'u', 22: 'v', 23: 'w', 24: 'x', 25: 'y', 26: 'z', 0: '.'}\n"
     ]
    }
   ],
   "source": [
    "# build the vocabulary of characters and mappings to/from integers\n",
    "chars = sorted(list(set(''.join(words))))\n",
    "stoi = {s:i+1 for i,s in enumerate(chars)}\n",
    "stoi['.'] = 0\n",
    "itos = {i:s for s,i in stoi.items()}\n",
    "print(itos)"
   ]
  },
  {
   "cell_type": "code",
   "execution_count": 63,
   "id": "75c0661b",
   "metadata": {},
   "outputs": [
    {
     "name": "stdout",
     "output_type": "stream",
     "text": [
      "emma\n",
      "... ---> e\n",
      "..e ---> m\n",
      ".em ---> m\n",
      "emm ---> a\n",
      "mma ---> .\n",
      "olivia\n",
      "... ---> o\n",
      "..o ---> l\n",
      ".ol ---> i\n",
      "oli ---> v\n",
      "liv ---> i\n",
      "ivi ---> a\n",
      "via ---> .\n",
      "ava\n",
      "... ---> a\n",
      "..a ---> v\n",
      ".av ---> a\n",
      "ava ---> .\n",
      "isabella\n",
      "... ---> i\n",
      "..i ---> s\n",
      ".is ---> a\n",
      "isa ---> b\n",
      "sab ---> e\n",
      "abe ---> l\n",
      "bel ---> l\n",
      "ell ---> a\n",
      "lla ---> .\n",
      "sophia\n",
      "... ---> s\n",
      "..s ---> o\n",
      ".so ---> p\n",
      "sop ---> h\n",
      "oph ---> i\n",
      "phi ---> a\n",
      "hia ---> .\n"
     ]
    },
    {
     "data": {
      "text/plain": [
       "tensor([[ 0,  0,  0],\n",
       "        [ 0,  0,  5],\n",
       "        [ 0,  5, 13],\n",
       "        [ 5, 13, 13],\n",
       "        [13, 13,  1],\n",
       "        [ 0,  0,  0],\n",
       "        [ 0,  0, 15],\n",
       "        [ 0, 15, 12],\n",
       "        [15, 12,  9],\n",
       "        [12,  9, 22],\n",
       "        [ 9, 22,  9],\n",
       "        [22,  9,  1],\n",
       "        [ 0,  0,  0],\n",
       "        [ 0,  0,  1],\n",
       "        [ 0,  1, 22],\n",
       "        [ 1, 22,  1],\n",
       "        [ 0,  0,  0],\n",
       "        [ 0,  0,  9],\n",
       "        [ 0,  9, 19],\n",
       "        [ 9, 19,  1],\n",
       "        [19,  1,  2],\n",
       "        [ 1,  2,  5],\n",
       "        [ 2,  5, 12],\n",
       "        [ 5, 12, 12],\n",
       "        [12, 12,  1],\n",
       "        [ 0,  0,  0],\n",
       "        [ 0,  0, 19],\n",
       "        [ 0, 19, 15],\n",
       "        [19, 15, 16],\n",
       "        [15, 16,  8],\n",
       "        [16,  8,  9],\n",
       "        [ 8,  9,  1]])"
      ]
     },
     "execution_count": 63,
     "metadata": {},
     "output_type": "execute_result"
    }
   ],
   "source": [
    "# build the dataset\n",
    "\n",
    "block_size = 3 # context length: how many characters do we take to predict the next one?\n",
    "X, Y = [], []\n",
    "for w in words[:5]:\n",
    "    print(w)\n",
    "    context = [0] * block_size\n",
    "    for ch in w + '.':\n",
    "        ix = stoi[ch]\n",
    "        X.append(context)\n",
    "        Y.append(ix)\n",
    "        print(''.join(itos[i] for i in context), '--->', itos[ix])\n",
    "        context = context[1:] + [ix] # crop and append\n",
    "  \n",
    "X = torch.tensor(X)\n",
    "Y = torch.tensor(Y)\n",
    "X"
   ]
  },
  {
   "cell_type": "code",
   "execution_count": 20,
   "id": "c32331fd",
   "metadata": {},
   "outputs": [
    {
     "data": {
      "text/plain": [
       "(torch.Size([32, 3]), torch.int64, torch.Size([32]), torch.int64)"
      ]
     },
     "execution_count": 20,
     "metadata": {},
     "output_type": "execute_result"
    }
   ],
   "source": [
    "X.shape, X.dtype, Y.shape, Y.dtype"
   ]
  },
  {
   "cell_type": "code",
   "execution_count": 69,
   "id": "18293324",
   "metadata": {},
   "outputs": [],
   "source": [
    "C = torch.randn((27, 2))\n"
   ]
  },
  {
   "cell_type": "code",
   "execution_count": 25,
   "id": "21d7d295",
   "metadata": {},
   "outputs": [
    {
     "data": {
      "text/plain": [
       "tensor([1.1305, 0.3874])"
      ]
     },
     "execution_count": 25,
     "metadata": {},
     "output_type": "execute_result"
    }
   ],
   "source": [
    "C[5]"
   ]
  },
  {
   "cell_type": "code",
   "execution_count": 28,
   "id": "cb862a0b",
   "metadata": {},
   "outputs": [
    {
     "data": {
      "text/plain": [
       "tensor([1.1305, 0.3874])"
      ]
     },
     "execution_count": 28,
     "metadata": {},
     "output_type": "execute_result"
    }
   ],
   "source": [
    "F.one_hot(torch.tensor(5), num_classes=27).float() @ C"
   ]
  },
  {
   "cell_type": "code",
   "execution_count": 34,
   "id": "d4a99d28",
   "metadata": {},
   "outputs": [
    {
     "data": {
      "text/plain": [
       "torch.Size([32, 3, 2])"
      ]
     },
     "execution_count": 34,
     "metadata": {},
     "output_type": "execute_result"
    }
   ],
   "source": [
    "C[X].shape"
   ]
  },
  {
   "cell_type": "code",
   "execution_count": 36,
   "id": "31affe18",
   "metadata": {},
   "outputs": [
    {
     "data": {
      "text/plain": [
       "tensor(1)"
      ]
     },
     "execution_count": 36,
     "metadata": {},
     "output_type": "execute_result"
    }
   ],
   "source": [
    "X[13,2]"
   ]
  },
  {
   "cell_type": "code",
   "execution_count": 38,
   "id": "6b8d7b4c",
   "metadata": {},
   "outputs": [
    {
     "data": {
      "text/plain": [
       "tensor([ 0.7662, -0.3912])"
      ]
     },
     "execution_count": 38,
     "metadata": {},
     "output_type": "execute_result"
    }
   ],
   "source": [
    "C[X][13,2]"
   ]
  },
  {
   "cell_type": "code",
   "execution_count": 40,
   "id": "a4144674",
   "metadata": {},
   "outputs": [
    {
     "data": {
      "text/plain": [
       "tensor([ 0.7662, -0.3912])"
      ]
     },
     "execution_count": 40,
     "metadata": {},
     "output_type": "execute_result"
    }
   ],
   "source": [
    "C[1]"
   ]
  },
  {
   "cell_type": "code",
   "execution_count": 70,
   "id": "95519ec9",
   "metadata": {},
   "outputs": [
    {
     "data": {
      "text/plain": [
       "tensor([[[-1.4208, -0.5003],\n",
       "         [-1.4208, -0.5003],\n",
       "         [-1.4208, -0.5003]],\n",
       "\n",
       "        [[-1.4208, -0.5003],\n",
       "         [-1.4208, -0.5003],\n",
       "         [-0.5323,  1.7767]],\n",
       "\n",
       "        [[-1.4208, -0.5003],\n",
       "         [-0.5323,  1.7767],\n",
       "         [-0.1964,  0.1158]],\n",
       "\n",
       "        [[-0.5323,  1.7767],\n",
       "         [-0.1964,  0.1158],\n",
       "         [-0.1964,  0.1158]],\n",
       "\n",
       "        [[-0.1964,  0.1158],\n",
       "         [-0.1964,  0.1158],\n",
       "         [-2.9319, -0.4412]],\n",
       "\n",
       "        [[-1.4208, -0.5003],\n",
       "         [-1.4208, -0.5003],\n",
       "         [-1.4208, -0.5003]],\n",
       "\n",
       "        [[-1.4208, -0.5003],\n",
       "         [-1.4208, -0.5003],\n",
       "         [ 0.2790, -0.2972]],\n",
       "\n",
       "        [[-1.4208, -0.5003],\n",
       "         [ 0.2790, -0.2972],\n",
       "         [ 0.5238,  0.9754]],\n",
       "\n",
       "        [[ 0.2790, -0.2972],\n",
       "         [ 0.5238,  0.9754],\n",
       "         [-0.3725,  0.9437]],\n",
       "\n",
       "        [[ 0.5238,  0.9754],\n",
       "         [-0.3725,  0.9437],\n",
       "         [-1.1131,  0.3025]],\n",
       "\n",
       "        [[-0.3725,  0.9437],\n",
       "         [-1.1131,  0.3025],\n",
       "         [-0.3725,  0.9437]],\n",
       "\n",
       "        [[-1.1131,  0.3025],\n",
       "         [-0.3725,  0.9437],\n",
       "         [-2.9319, -0.4412]],\n",
       "\n",
       "        [[-1.4208, -0.5003],\n",
       "         [-1.4208, -0.5003],\n",
       "         [-1.4208, -0.5003]],\n",
       "\n",
       "        [[-1.4208, -0.5003],\n",
       "         [-1.4208, -0.5003],\n",
       "         [-2.9319, -0.4412]],\n",
       "\n",
       "        [[-1.4208, -0.5003],\n",
       "         [-2.9319, -0.4412],\n",
       "         [-1.1131,  0.3025]],\n",
       "\n",
       "        [[-2.9319, -0.4412],\n",
       "         [-1.1131,  0.3025],\n",
       "         [-2.9319, -0.4412]],\n",
       "\n",
       "        [[-1.4208, -0.5003],\n",
       "         [-1.4208, -0.5003],\n",
       "         [-1.4208, -0.5003]],\n",
       "\n",
       "        [[-1.4208, -0.5003],\n",
       "         [-1.4208, -0.5003],\n",
       "         [-0.3725,  0.9437]],\n",
       "\n",
       "        [[-1.4208, -0.5003],\n",
       "         [-0.3725,  0.9437],\n",
       "         [-0.4540, -0.4317]],\n",
       "\n",
       "        [[-0.3725,  0.9437],\n",
       "         [-0.4540, -0.4317],\n",
       "         [-2.9319, -0.4412]],\n",
       "\n",
       "        [[-0.4540, -0.4317],\n",
       "         [-2.9319, -0.4412],\n",
       "         [-0.6584,  0.7216]],\n",
       "\n",
       "        [[-2.9319, -0.4412],\n",
       "         [-0.6584,  0.7216],\n",
       "         [-0.5323,  1.7767]],\n",
       "\n",
       "        [[-0.6584,  0.7216],\n",
       "         [-0.5323,  1.7767],\n",
       "         [ 0.5238,  0.9754]],\n",
       "\n",
       "        [[-0.5323,  1.7767],\n",
       "         [ 0.5238,  0.9754],\n",
       "         [ 0.5238,  0.9754]],\n",
       "\n",
       "        [[ 0.5238,  0.9754],\n",
       "         [ 0.5238,  0.9754],\n",
       "         [-2.9319, -0.4412]],\n",
       "\n",
       "        [[-1.4208, -0.5003],\n",
       "         [-1.4208, -0.5003],\n",
       "         [-1.4208, -0.5003]],\n",
       "\n",
       "        [[-1.4208, -0.5003],\n",
       "         [-1.4208, -0.5003],\n",
       "         [-0.4540, -0.4317]],\n",
       "\n",
       "        [[-1.4208, -0.5003],\n",
       "         [-0.4540, -0.4317],\n",
       "         [ 0.2790, -0.2972]],\n",
       "\n",
       "        [[-0.4540, -0.4317],\n",
       "         [ 0.2790, -0.2972],\n",
       "         [ 0.1722, -1.0368]],\n",
       "\n",
       "        [[ 0.2790, -0.2972],\n",
       "         [ 0.1722, -1.0368],\n",
       "         [-1.1470, -0.1771]],\n",
       "\n",
       "        [[ 0.1722, -1.0368],\n",
       "         [-1.1470, -0.1771],\n",
       "         [-0.3725,  0.9437]],\n",
       "\n",
       "        [[-1.1470, -0.1771],\n",
       "         [-0.3725,  0.9437],\n",
       "         [-2.9319, -0.4412]]])"
      ]
     },
     "execution_count": 70,
     "metadata": {},
     "output_type": "execute_result"
    }
   ],
   "source": [
    "emb = C[X]\n",
    "emb.shape\n",
    "emb"
   ]
  },
  {
   "cell_type": "code",
   "execution_count": 74,
   "id": "a3d72913",
   "metadata": {},
   "outputs": [],
   "source": [
    "W1 = torch.randn((6, 100))\n",
    "b1 = torch.randn(100)\n",
    "# emb @ W1 + b1"
   ]
  },
  {
   "cell_type": "code",
   "execution_count": 86,
   "id": "e38543d9",
   "metadata": {},
   "outputs": [],
   "source": [
    "F = torch.cat([emb[:, 0, :], emb[:, 1, :], emb[:, 2, :]], 1)"
   ]
  },
  {
   "cell_type": "code",
   "execution_count": 85,
   "id": "0432592d",
   "metadata": {},
   "outputs": [],
   "source": [
    "unbinded = torch.unbind(emb, 1)"
   ]
  },
  {
   "cell_type": "code",
   "execution_count": null,
   "id": "56639bcd",
   "metadata": {},
   "outputs": [],
   "source": [
    "# Optimize tensor view manipulation"
   ]
  },
  {
   "cell_type": "code",
   "execution_count": 79,
   "id": "71e59c6c",
   "metadata": {},
   "outputs": [],
   "source": [
    "a = torch.arange(18)"
   ]
  },
  {
   "cell_type": "code",
   "execution_count": 83,
   "id": "d7534d30",
   "metadata": {},
   "outputs": [
    {
     "data": {
      "text/plain": [
       "tensor([[[ 0,  1],\n",
       "         [ 2,  3],\n",
       "         [ 4,  5]],\n",
       "\n",
       "        [[ 6,  7],\n",
       "         [ 8,  9],\n",
       "         [10, 11]],\n",
       "\n",
       "        [[12, 13],\n",
       "         [14, 15],\n",
       "         [16, 17]]])"
      ]
     },
     "execution_count": 83,
     "metadata": {},
     "output_type": "execute_result"
    }
   ],
   "source": [
    "# no memory is being changed/copied/created etc. when .view is being called\n",
    "a.view(3,3,2)"
   ]
  },
  {
   "cell_type": "code",
   "execution_count": 84,
   "id": "ce3cf70c",
   "metadata": {},
   "outputs": [
    {
     "data": {
      "text/plain": [
       " 0\n",
       " 1\n",
       " 2\n",
       " 3\n",
       " 4\n",
       " 5\n",
       " 6\n",
       " 7\n",
       " 8\n",
       " 9\n",
       " 10\n",
       " 11\n",
       " 12\n",
       " 13\n",
       " 14\n",
       " 15\n",
       " 16\n",
       " 17\n",
       "[torch.storage._TypedStorage(dtype=torch.int64, device=cpu) of size 18]"
      ]
     },
     "execution_count": 84,
     "metadata": {},
     "output_type": "execute_result"
    }
   ],
   "source": [
    "# always a 1-dimensional vector\n",
    "a.storage()"
   ]
  },
  {
   "cell_type": "code",
   "execution_count": 88,
   "id": "48df7d06",
   "metadata": {},
   "outputs": [
    {
     "data": {
      "text/plain": [
       "torch.Size([32, 3, 2])"
      ]
     },
     "execution_count": 88,
     "metadata": {},
     "output_type": "execute_result"
    }
   ],
   "source": [
    "emb.shape"
   ]
  },
  {
   "cell_type": "code",
   "execution_count": 91,
   "id": "f0c94b28",
   "metadata": {},
   "outputs": [
    {
     "data": {
      "text/plain": [
       "tensor([[True, True, True, True, True, True],\n",
       "        [True, True, True, True, True, True],\n",
       "        [True, True, True, True, True, True],\n",
       "        [True, True, True, True, True, True],\n",
       "        [True, True, True, True, True, True],\n",
       "        [True, True, True, True, True, True],\n",
       "        [True, True, True, True, True, True],\n",
       "        [True, True, True, True, True, True],\n",
       "        [True, True, True, True, True, True],\n",
       "        [True, True, True, True, True, True],\n",
       "        [True, True, True, True, True, True],\n",
       "        [True, True, True, True, True, True],\n",
       "        [True, True, True, True, True, True],\n",
       "        [True, True, True, True, True, True],\n",
       "        [True, True, True, True, True, True],\n",
       "        [True, True, True, True, True, True],\n",
       "        [True, True, True, True, True, True],\n",
       "        [True, True, True, True, True, True],\n",
       "        [True, True, True, True, True, True],\n",
       "        [True, True, True, True, True, True],\n",
       "        [True, True, True, True, True, True],\n",
       "        [True, True, True, True, True, True],\n",
       "        [True, True, True, True, True, True],\n",
       "        [True, True, True, True, True, True],\n",
       "        [True, True, True, True, True, True],\n",
       "        [True, True, True, True, True, True],\n",
       "        [True, True, True, True, True, True],\n",
       "        [True, True, True, True, True, True],\n",
       "        [True, True, True, True, True, True],\n",
       "        [True, True, True, True, True, True],\n",
       "        [True, True, True, True, True, True],\n",
       "        [True, True, True, True, True, True]])"
      ]
     },
     "execution_count": 91,
     "metadata": {},
     "output_type": "execute_result"
    }
   ],
   "source": [
    "# more efficient and easier than bind/unbind\n",
    "emb.view(32, 6) == torch.cat(torch.unbind(emb, 1), 1)"
   ]
  },
  {
   "cell_type": "code",
   "execution_count": 97,
   "id": "349f24b9",
   "metadata": {},
   "outputs": [
    {
     "data": {
      "text/plain": [
       "torch.Size([32, 100])"
      ]
     },
     "execution_count": 97,
     "metadata": {},
     "output_type": "execute_result"
    }
   ],
   "source": [
    "W1 = torch.randn((6, 100))\n",
    "b1 = torch.randn(100)\n",
    "# pytorch can infer missing shape of matrix with -1\n",
    "h = torch.tanh(emb.view(-1, 6) @ W1 + b1)\n",
    "h.shape # 100 activations for each of our 32 examples"
   ]
  },
  {
   "cell_type": "code",
   "execution_count": 98,
   "id": "73b88597",
   "metadata": {},
   "outputs": [],
   "source": [
    "W2 = torch.randn((100, 27))\n",
    "b2 = torch.randn(27)"
   ]
  },
  {
   "cell_type": "code",
   "execution_count": 102,
   "id": "d9d6c03d",
   "metadata": {},
   "outputs": [],
   "source": [
    "logits = h @ W2 + b2"
   ]
  },
  {
   "cell_type": "code",
   "execution_count": 103,
   "id": "809075f8",
   "metadata": {},
   "outputs": [],
   "source": [
    "counts = logits.exp()"
   ]
  },
  {
   "cell_type": "code",
   "execution_count": 109,
   "id": "993e8b5f",
   "metadata": {},
   "outputs": [],
   "source": [
    "prob = counts / counts.sum(1, keepdims=True)"
   ]
  },
  {
   "cell_type": "code",
   "execution_count": 125,
   "id": "cc96f5ad",
   "metadata": {},
   "outputs": [
    {
     "data": {
      "text/plain": [
       "tensor(12.2272)"
      ]
     },
     "execution_count": 125,
     "metadata": {},
     "output_type": "execute_result"
    }
   ],
   "source": [
    "# index into the rows of prob, pluck out the probability assigned to the correct character, and calculate loss\n",
    "loss = -prob[torch.arange(32), Y].log().mean()\n",
    "loss"
   ]
  },
  {
   "cell_type": "code",
   "execution_count": 126,
   "id": "16e92819",
   "metadata": {},
   "outputs": [],
   "source": [
    "# ---- clearer sequence -----"
   ]
  },
  {
   "cell_type": "code",
   "execution_count": 128,
   "id": "e96f7a68",
   "metadata": {},
   "outputs": [
    {
     "data": {
      "text/plain": [
       "(torch.Size([32, 3]), torch.Size([32]))"
      ]
     },
     "execution_count": 128,
     "metadata": {},
     "output_type": "execute_result"
    }
   ],
   "source": [
    "X.shape, Y.shape # dataset"
   ]
  },
  {
   "cell_type": "code",
   "execution_count": 138,
   "id": "3769999b",
   "metadata": {},
   "outputs": [],
   "source": [
    "g = torch.Generator().manual_seed(2147483647) # for reproducibility\n",
    "C = torch.randn((27, 2), generator=g)\n",
    "W1 = torch.randn((6, 100), generator=g)\n",
    "b1 = torch.randn(100, generator=g)\n",
    "W2 = torch.randn((100, 27), generator=g)\n",
    "b2 = torch.randn(27, generator=g)\n",
    "parameters = [C, W1, b1, W2, b2]"
   ]
  },
  {
   "cell_type": "code",
   "execution_count": 139,
   "id": "c92b503b",
   "metadata": {},
   "outputs": [
    {
     "data": {
      "text/plain": [
       "3481"
      ]
     },
     "execution_count": 139,
     "metadata": {},
     "output_type": "execute_result"
    }
   ],
   "source": [
    "sum(p.nelement() for p in parameters) # number of parameters in total"
   ]
  },
  {
   "cell_type": "code",
   "execution_count": 140,
   "id": "38e1aa10",
   "metadata": {},
   "outputs": [
    {
     "data": {
      "text/plain": [
       "tensor(17.7697)"
      ]
     },
     "execution_count": 140,
     "metadata": {},
     "output_type": "execute_result"
    }
   ],
   "source": [
    "emb = C[X] # (32, 3, 2)\n",
    "h = torch.tanh(emb.view(-1, 6) @ W1 + b1)\n",
    "logits = h @ W2 + b2\n",
    "counts = logits.exp()\n",
    "prob = counts / counts.sum(1, keepdims=True)\n",
    "loss = -prob[torch.arange(32), Y].log().mean()\n",
    "loss"
   ]
  }
 ],
 "metadata": {
  "kernelspec": {
   "display_name": "Python 3 (ipykernel)",
   "language": "python",
   "name": "python3"
  },
  "language_info": {
   "codemirror_mode": {
    "name": "ipython",
    "version": 3
   },
   "file_extension": ".py",
   "mimetype": "text/x-python",
   "name": "python",
   "nbconvert_exporter": "python",
   "pygments_lexer": "ipython3",
   "version": "3.10.9"
  }
 },
 "nbformat": 4,
 "nbformat_minor": 5
}
