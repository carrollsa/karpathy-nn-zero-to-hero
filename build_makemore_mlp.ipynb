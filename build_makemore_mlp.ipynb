{
 "cells": [
  {
   "cell_type": "code",
   "execution_count": 174,
   "id": "4a1eee68",
   "metadata": {},
   "outputs": [],
   "source": [
    "import torch\n",
    "import torch.nn.functional as F\n",
    "import matplotlib.pyplot as plt # for making figures\n",
    "%matplotlib inline"
   ]
  },
  {
   "cell_type": "code",
   "execution_count": 175,
   "id": "9624c779",
   "metadata": {},
   "outputs": [
    {
     "data": {
      "text/plain": [
       "['emma', 'olivia', 'ava', 'isabella', 'sophia', 'charlotte', 'mia', 'amelia']"
      ]
     },
     "execution_count": 175,
     "metadata": {},
     "output_type": "execute_result"
    }
   ],
   "source": [
    "# read in all the words\n",
    "words = open('names.txt', 'r').read().splitlines()\n",
    "words[:8]"
   ]
  },
  {
   "cell_type": "code",
   "execution_count": 176,
   "id": "c2d4311a",
   "metadata": {},
   "outputs": [
    {
     "data": {
      "text/plain": [
       "32033"
      ]
     },
     "execution_count": 176,
     "metadata": {},
     "output_type": "execute_result"
    }
   ],
   "source": [
    "len(words)"
   ]
  },
  {
   "cell_type": "code",
   "execution_count": 177,
   "id": "50185bc9",
   "metadata": {},
   "outputs": [
    {
     "name": "stdout",
     "output_type": "stream",
     "text": [
      "{1: 'a', 2: 'b', 3: 'c', 4: 'd', 5: 'e', 6: 'f', 7: 'g', 8: 'h', 9: 'i', 10: 'j', 11: 'k', 12: 'l', 13: 'm', 14: 'n', 15: 'o', 16: 'p', 17: 'q', 18: 'r', 19: 's', 20: 't', 21: 'u', 22: 'v', 23: 'w', 24: 'x', 25: 'y', 26: 'z', 0: '.'}\n"
     ]
    }
   ],
   "source": [
    "# build the vocabulary of characters and mappings to/from integers\n",
    "chars = sorted(list(set(''.join(words))))\n",
    "stoi = {s:i+1 for i,s in enumerate(chars)}\n",
    "stoi['.'] = 0\n",
    "itos = {i:s for s,i in stoi.items()}\n",
    "print(itos)"
   ]
  },
  {
   "cell_type": "code",
   "execution_count": 219,
   "id": "6a5aadf4",
   "metadata": {},
   "outputs": [
    {
     "data": {
      "text/plain": [
       "tensor([[ 0,  0,  0],\n",
       "        [ 0,  0,  5],\n",
       "        [ 0,  5, 13],\n",
       "        ...,\n",
       "        [26, 26, 25],\n",
       "        [26, 25, 26],\n",
       "        [25, 26, 24]])"
      ]
     },
     "execution_count": 219,
     "metadata": {},
     "output_type": "execute_result"
    }
   ],
   "source": [
    "# build the dataset\n",
    "\n",
    "block_size = 3 # context length: how many characters do we take to predict the next one?\n",
    "X, Y = [], []\n",
    "for w in words:\n",
    "#     print(w)\n",
    "    context = [0] * block_size\n",
    "    for ch in w + '.':\n",
    "        ix = stoi[ch]\n",
    "        X.append(context)\n",
    "        Y.append(ix)\n",
    "#         print(''.join(itos[i] for i in context), '--->', itos[ix])\n",
    "        context = context[1:] + [ix] # crop and append\n",
    "  \n",
    "X = torch.tensor(X)\n",
    "Y = torch.tensor(Y)\n",
    "X"
   ]
  },
  {
   "cell_type": "code",
   "execution_count": 220,
   "id": "b87c1113",
   "metadata": {},
   "outputs": [
    {
     "data": {
      "text/plain": [
       "(torch.Size([228146, 3]), torch.int64, torch.Size([228146]), torch.int64)"
      ]
     },
     "execution_count": 220,
     "metadata": {},
     "output_type": "execute_result"
    }
   ],
   "source": [
    "X.shape, X.dtype, Y.shape, Y.dtype"
   ]
  },
  {
   "cell_type": "code",
   "execution_count": 321,
   "id": "05c8e40b",
   "metadata": {},
   "outputs": [
    {
     "name": "stdout",
     "output_type": "stream",
     "text": [
      "torch.Size([182625, 3]) torch.Size([182625])\n",
      "torch.Size([22655, 3]) torch.Size([22655])\n",
      "torch.Size([22866, 3]) torch.Size([22866])\n"
     ]
    }
   ],
   "source": [
    "# build the dataset\n",
    "block_size = 3 # context length: how many characters do we take to predict the next one?\n",
    "\n",
    "def build_dataset(words):  \n",
    "  X, Y = [], []\n",
    "  for w in words:\n",
    "\n",
    "    #print(w)\n",
    "    context = [0] * block_size\n",
    "    for ch in w + '.':\n",
    "      ix = stoi[ch]\n",
    "      X.append(context)\n",
    "      Y.append(ix)\n",
    "      #print(''.join(itos[i] for i in context), '--->', itos[ix])\n",
    "      context = context[1:] + [ix] # crop and append\n",
    "\n",
    "  X = torch.tensor(X)\n",
    "  Y = torch.tensor(Y)\n",
    "  print(X.shape, Y.shape)\n",
    "  return X, Y\n",
    "\n",
    "import random\n",
    "random.seed(42)\n",
    "random.shuffle(words)\n",
    "n1 = int(0.8*len(words))\n",
    "n2 = int(0.9*len(words))\n",
    "\n",
    "Xtr, Ytr = build_dataset(words[:n1])\n",
    "Xdev, Ydev = build_dataset(words[n1:n2])\n",
    "Xte, Yte = build_dataset(words[n2:])"
   ]
  },
  {
   "cell_type": "code",
   "execution_count": 180,
   "id": "4a399ce8",
   "metadata": {},
   "outputs": [],
   "source": [
    "C = torch.randn((27, 2))\n"
   ]
  },
  {
   "cell_type": "code",
   "execution_count": 181,
   "id": "0fd83bef",
   "metadata": {},
   "outputs": [
    {
     "data": {
      "text/plain": [
       "tensor([0.4292, 0.2281])"
      ]
     },
     "execution_count": 181,
     "metadata": {},
     "output_type": "execute_result"
    }
   ],
   "source": [
    "C[5]"
   ]
  },
  {
   "cell_type": "code",
   "execution_count": 182,
   "id": "e3677842",
   "metadata": {},
   "outputs": [
    {
     "data": {
      "text/plain": [
       "tensor([0.4292, 0.2281])"
      ]
     },
     "execution_count": 182,
     "metadata": {},
     "output_type": "execute_result"
    }
   ],
   "source": [
    "F.one_hot(torch.tensor(5), num_classes=27).float() @ C"
   ]
  },
  {
   "cell_type": "code",
   "execution_count": 183,
   "id": "bd9879fc",
   "metadata": {},
   "outputs": [
    {
     "data": {
      "text/plain": [
       "torch.Size([32, 3, 2])"
      ]
     },
     "execution_count": 183,
     "metadata": {},
     "output_type": "execute_result"
    }
   ],
   "source": [
    "C[X].shape"
   ]
  },
  {
   "cell_type": "code",
   "execution_count": 184,
   "id": "77774c07",
   "metadata": {},
   "outputs": [
    {
     "data": {
      "text/plain": [
       "tensor(1)"
      ]
     },
     "execution_count": 184,
     "metadata": {},
     "output_type": "execute_result"
    }
   ],
   "source": [
    "X[13,2]"
   ]
  },
  {
   "cell_type": "code",
   "execution_count": 185,
   "id": "3b2cf9ab",
   "metadata": {},
   "outputs": [
    {
     "data": {
      "text/plain": [
       "tensor([ 1.8568, -0.4740])"
      ]
     },
     "execution_count": 185,
     "metadata": {},
     "output_type": "execute_result"
    }
   ],
   "source": [
    "C[X][13,2]"
   ]
  },
  {
   "cell_type": "code",
   "execution_count": 186,
   "id": "91591557",
   "metadata": {},
   "outputs": [
    {
     "data": {
      "text/plain": [
       "tensor([ 1.8568, -0.4740])"
      ]
     },
     "execution_count": 186,
     "metadata": {},
     "output_type": "execute_result"
    }
   ],
   "source": [
    "C[1]"
   ]
  },
  {
   "cell_type": "code",
   "execution_count": 187,
   "id": "467ce85e",
   "metadata": {},
   "outputs": [
    {
     "data": {
      "text/plain": [
       "tensor([[[-0.1605, -0.8230],\n",
       "         [-0.1605, -0.8230],\n",
       "         [-0.1605, -0.8230]],\n",
       "\n",
       "        [[-0.1605, -0.8230],\n",
       "         [-0.1605, -0.8230],\n",
       "         [ 0.4292,  0.2281]],\n",
       "\n",
       "        [[-0.1605, -0.8230],\n",
       "         [ 0.4292,  0.2281],\n",
       "         [ 0.1847, -0.4149]],\n",
       "\n",
       "        [[ 0.4292,  0.2281],\n",
       "         [ 0.1847, -0.4149],\n",
       "         [ 0.1847, -0.4149]],\n",
       "\n",
       "        [[ 0.1847, -0.4149],\n",
       "         [ 0.1847, -0.4149],\n",
       "         [ 1.8568, -0.4740]],\n",
       "\n",
       "        [[-0.1605, -0.8230],\n",
       "         [-0.1605, -0.8230],\n",
       "         [-0.1605, -0.8230]],\n",
       "\n",
       "        [[-0.1605, -0.8230],\n",
       "         [-0.1605, -0.8230],\n",
       "         [-0.2392,  0.8671]],\n",
       "\n",
       "        [[-0.1605, -0.8230],\n",
       "         [-0.2392,  0.8671],\n",
       "         [ 1.9192,  0.5768]],\n",
       "\n",
       "        [[-0.2392,  0.8671],\n",
       "         [ 1.9192,  0.5768],\n",
       "         [ 0.5699, -0.2114]],\n",
       "\n",
       "        [[ 1.9192,  0.5768],\n",
       "         [ 0.5699, -0.2114],\n",
       "         [-0.6608, -1.0366]],\n",
       "\n",
       "        [[ 0.5699, -0.2114],\n",
       "         [-0.6608, -1.0366],\n",
       "         [ 0.5699, -0.2114]],\n",
       "\n",
       "        [[-0.6608, -1.0366],\n",
       "         [ 0.5699, -0.2114],\n",
       "         [ 1.8568, -0.4740]],\n",
       "\n",
       "        [[-0.1605, -0.8230],\n",
       "         [-0.1605, -0.8230],\n",
       "         [-0.1605, -0.8230]],\n",
       "\n",
       "        [[-0.1605, -0.8230],\n",
       "         [-0.1605, -0.8230],\n",
       "         [ 1.8568, -0.4740]],\n",
       "\n",
       "        [[-0.1605, -0.8230],\n",
       "         [ 1.8568, -0.4740],\n",
       "         [-0.6608, -1.0366]],\n",
       "\n",
       "        [[ 1.8568, -0.4740],\n",
       "         [-0.6608, -1.0366],\n",
       "         [ 1.8568, -0.4740]],\n",
       "\n",
       "        [[-0.1605, -0.8230],\n",
       "         [-0.1605, -0.8230],\n",
       "         [-0.1605, -0.8230]],\n",
       "\n",
       "        [[-0.1605, -0.8230],\n",
       "         [-0.1605, -0.8230],\n",
       "         [ 0.5699, -0.2114]],\n",
       "\n",
       "        [[-0.1605, -0.8230],\n",
       "         [ 0.5699, -0.2114],\n",
       "         [-0.4877,  0.7242]],\n",
       "\n",
       "        [[ 0.5699, -0.2114],\n",
       "         [-0.4877,  0.7242],\n",
       "         [ 1.8568, -0.4740]],\n",
       "\n",
       "        [[-0.4877,  0.7242],\n",
       "         [ 1.8568, -0.4740],\n",
       "         [-0.0704,  0.9903]],\n",
       "\n",
       "        [[ 1.8568, -0.4740],\n",
       "         [-0.0704,  0.9903],\n",
       "         [ 0.4292,  0.2281]],\n",
       "\n",
       "        [[-0.0704,  0.9903],\n",
       "         [ 0.4292,  0.2281],\n",
       "         [ 1.9192,  0.5768]],\n",
       "\n",
       "        [[ 0.4292,  0.2281],\n",
       "         [ 1.9192,  0.5768],\n",
       "         [ 1.9192,  0.5768]],\n",
       "\n",
       "        [[ 1.9192,  0.5768],\n",
       "         [ 1.9192,  0.5768],\n",
       "         [ 1.8568, -0.4740]],\n",
       "\n",
       "        [[-0.1605, -0.8230],\n",
       "         [-0.1605, -0.8230],\n",
       "         [-0.1605, -0.8230]],\n",
       "\n",
       "        [[-0.1605, -0.8230],\n",
       "         [-0.1605, -0.8230],\n",
       "         [-0.4877,  0.7242]],\n",
       "\n",
       "        [[-0.1605, -0.8230],\n",
       "         [-0.4877,  0.7242],\n",
       "         [-0.2392,  0.8671]],\n",
       "\n",
       "        [[-0.4877,  0.7242],\n",
       "         [-0.2392,  0.8671],\n",
       "         [ 1.1259,  0.2316]],\n",
       "\n",
       "        [[-0.2392,  0.8671],\n",
       "         [ 1.1259,  0.2316],\n",
       "         [-1.2148,  1.4912]],\n",
       "\n",
       "        [[ 1.1259,  0.2316],\n",
       "         [-1.2148,  1.4912],\n",
       "         [ 0.5699, -0.2114]],\n",
       "\n",
       "        [[-1.2148,  1.4912],\n",
       "         [ 0.5699, -0.2114],\n",
       "         [ 1.8568, -0.4740]]])"
      ]
     },
     "execution_count": 187,
     "metadata": {},
     "output_type": "execute_result"
    }
   ],
   "source": [
    "emb = C[X]\n",
    "emb.shape\n",
    "emb"
   ]
  },
  {
   "cell_type": "code",
   "execution_count": 188,
   "id": "297fda1a",
   "metadata": {},
   "outputs": [],
   "source": [
    "W1 = torch.randn((6, 100))\n",
    "b1 = torch.randn(100)\n",
    "# emb @ W1 + b1"
   ]
  },
  {
   "cell_type": "code",
   "execution_count": 189,
   "id": "834a419a",
   "metadata": {},
   "outputs": [],
   "source": [
    "# F = torch.cat([emb[:, 0, :], emb[:, 1, :], emb[:, 2, :]], 1)"
   ]
  },
  {
   "cell_type": "code",
   "execution_count": 190,
   "id": "b80063d4",
   "metadata": {},
   "outputs": [],
   "source": [
    "unbinded = torch.unbind(emb, 1)"
   ]
  },
  {
   "cell_type": "code",
   "execution_count": 191,
   "id": "fd61abb4",
   "metadata": {},
   "outputs": [],
   "source": [
    "# Optimize tensor view manipulation"
   ]
  },
  {
   "cell_type": "code",
   "execution_count": 192,
   "id": "9b06e4ce",
   "metadata": {},
   "outputs": [],
   "source": [
    "a = torch.arange(18)"
   ]
  },
  {
   "cell_type": "code",
   "execution_count": 193,
   "id": "8ebd7d47",
   "metadata": {},
   "outputs": [
    {
     "data": {
      "text/plain": [
       "tensor([[[ 0,  1],\n",
       "         [ 2,  3],\n",
       "         [ 4,  5]],\n",
       "\n",
       "        [[ 6,  7],\n",
       "         [ 8,  9],\n",
       "         [10, 11]],\n",
       "\n",
       "        [[12, 13],\n",
       "         [14, 15],\n",
       "         [16, 17]]])"
      ]
     },
     "execution_count": 193,
     "metadata": {},
     "output_type": "execute_result"
    }
   ],
   "source": [
    "# no memory is being changed/copied/created etc. when .view is being called\n",
    "a.view(3,3,2)"
   ]
  },
  {
   "cell_type": "code",
   "execution_count": 194,
   "id": "317841b6",
   "metadata": {},
   "outputs": [
    {
     "data": {
      "text/plain": [
       " 0\n",
       " 1\n",
       " 2\n",
       " 3\n",
       " 4\n",
       " 5\n",
       " 6\n",
       " 7\n",
       " 8\n",
       " 9\n",
       " 10\n",
       " 11\n",
       " 12\n",
       " 13\n",
       " 14\n",
       " 15\n",
       " 16\n",
       " 17\n",
       "[torch.storage._TypedStorage(dtype=torch.int64, device=cpu) of size 18]"
      ]
     },
     "execution_count": 194,
     "metadata": {},
     "output_type": "execute_result"
    }
   ],
   "source": [
    "# always a 1-dimensional vector\n",
    "a.storage()"
   ]
  },
  {
   "cell_type": "code",
   "execution_count": 195,
   "id": "8a8d55c7",
   "metadata": {},
   "outputs": [
    {
     "data": {
      "text/plain": [
       "torch.Size([32, 3, 2])"
      ]
     },
     "execution_count": 195,
     "metadata": {},
     "output_type": "execute_result"
    }
   ],
   "source": [
    "emb.shape"
   ]
  },
  {
   "cell_type": "code",
   "execution_count": 196,
   "id": "e97690ce",
   "metadata": {},
   "outputs": [
    {
     "data": {
      "text/plain": [
       "tensor([[True, True, True, True, True, True],\n",
       "        [True, True, True, True, True, True],\n",
       "        [True, True, True, True, True, True],\n",
       "        [True, True, True, True, True, True],\n",
       "        [True, True, True, True, True, True],\n",
       "        [True, True, True, True, True, True],\n",
       "        [True, True, True, True, True, True],\n",
       "        [True, True, True, True, True, True],\n",
       "        [True, True, True, True, True, True],\n",
       "        [True, True, True, True, True, True],\n",
       "        [True, True, True, True, True, True],\n",
       "        [True, True, True, True, True, True],\n",
       "        [True, True, True, True, True, True],\n",
       "        [True, True, True, True, True, True],\n",
       "        [True, True, True, True, True, True],\n",
       "        [True, True, True, True, True, True],\n",
       "        [True, True, True, True, True, True],\n",
       "        [True, True, True, True, True, True],\n",
       "        [True, True, True, True, True, True],\n",
       "        [True, True, True, True, True, True],\n",
       "        [True, True, True, True, True, True],\n",
       "        [True, True, True, True, True, True],\n",
       "        [True, True, True, True, True, True],\n",
       "        [True, True, True, True, True, True],\n",
       "        [True, True, True, True, True, True],\n",
       "        [True, True, True, True, True, True],\n",
       "        [True, True, True, True, True, True],\n",
       "        [True, True, True, True, True, True],\n",
       "        [True, True, True, True, True, True],\n",
       "        [True, True, True, True, True, True],\n",
       "        [True, True, True, True, True, True],\n",
       "        [True, True, True, True, True, True]])"
      ]
     },
     "execution_count": 196,
     "metadata": {},
     "output_type": "execute_result"
    }
   ],
   "source": [
    "# more efficient and easier than bind/unbind\n",
    "emb.view(32, 6) == torch.cat(torch.unbind(emb, 1), 1)"
   ]
  },
  {
   "cell_type": "code",
   "execution_count": 197,
   "id": "25315a04",
   "metadata": {},
   "outputs": [
    {
     "data": {
      "text/plain": [
       "torch.Size([32, 100])"
      ]
     },
     "execution_count": 197,
     "metadata": {},
     "output_type": "execute_result"
    }
   ],
   "source": [
    "W1 = torch.randn((6, 100))\n",
    "b1 = torch.randn(100)\n",
    "# pytorch can infer missing shape of matrix with -1\n",
    "h = torch.tanh(emb.view(-1, 6) @ W1 + b1)\n",
    "h.shape # 100 activations for each of our 32 examples"
   ]
  },
  {
   "cell_type": "code",
   "execution_count": 198,
   "id": "4b9595a2",
   "metadata": {},
   "outputs": [],
   "source": [
    "W2 = torch.randn((100, 27))\n",
    "b2 = torch.randn(27)"
   ]
  },
  {
   "cell_type": "code",
   "execution_count": 199,
   "id": "479e90fc",
   "metadata": {},
   "outputs": [],
   "source": [
    "logits = h @ W2 + b2"
   ]
  },
  {
   "cell_type": "code",
   "execution_count": 200,
   "id": "ed36cdfe",
   "metadata": {},
   "outputs": [],
   "source": [
    "counts = logits.exp()"
   ]
  },
  {
   "cell_type": "code",
   "execution_count": 201,
   "id": "e6f3cb30",
   "metadata": {},
   "outputs": [],
   "source": [
    "prob = counts / counts.sum(1, keepdims=True)"
   ]
  },
  {
   "cell_type": "code",
   "execution_count": 202,
   "id": "35490fec",
   "metadata": {},
   "outputs": [
    {
     "data": {
      "text/plain": [
       "tensor(18.5355)"
      ]
     },
     "execution_count": 202,
     "metadata": {},
     "output_type": "execute_result"
    }
   ],
   "source": [
    "# index into the rows of prob, pluck out the probability assigned to the correct character, and calculate loss\n",
    "loss = -prob[torch.arange(32), Y].log().mean()\n",
    "loss"
   ]
  },
  {
   "cell_type": "code",
   "execution_count": 203,
   "id": "21bc972b",
   "metadata": {},
   "outputs": [],
   "source": [
    "# ---- clearer sequence -----"
   ]
  },
  {
   "cell_type": "code",
   "execution_count": 325,
   "id": "59f73f3d",
   "metadata": {},
   "outputs": [
    {
     "data": {
      "text/plain": [
       "(torch.Size([182625, 3]), torch.Size([182625]))"
      ]
     },
     "execution_count": 325,
     "metadata": {},
     "output_type": "execute_result"
    }
   ],
   "source": [
    "Xtr.shape, Ytr.shape # dataset"
   ]
  },
  {
   "cell_type": "code",
   "execution_count": 376,
   "id": "d1d86e5e",
   "metadata": {},
   "outputs": [],
   "source": [
    "g = torch.Generator().manual_seed(2147483647) # for reproducibility\n",
    "C = torch.randn((27, 10), generator=g)\n",
    "W1 = torch.randn((30, 200), generator=g)\n",
    "b1 = torch.randn(200, generator=g)\n",
    "W2 = torch.randn((200, 27), generator=g)\n",
    "b2 = torch.randn(27, generator=g)\n",
    "parameters = [C, W1, b1, W2, b2] # cluster parameters into single list"
   ]
  },
  {
   "cell_type": "code",
   "execution_count": 377,
   "id": "6f661d7f",
   "metadata": {},
   "outputs": [
    {
     "data": {
      "text/plain": [
       "11897"
      ]
     },
     "execution_count": 377,
     "metadata": {},
     "output_type": "execute_result"
    }
   ],
   "source": [
    "sum(p.nelement() for p in parameters) # number of parameters in total"
   ]
  },
  {
   "cell_type": "code",
   "execution_count": 378,
   "id": "28e16f61",
   "metadata": {},
   "outputs": [],
   "source": [
    "# emb = C[X] # (32, 3, 2)\n",
    "# h = torch.tanh(emb.view(-1, 6) @ W1 + b1)\n",
    "# logits = h @ W2 + b2\n",
    "# # counts = logits.exp()\n",
    "# # prob = counts / counts.sum(1, keepdims=True)\n",
    "# # loss = -prob[torch.arange(32), Y].log().mean()\n",
    "# # Above 3 commented lines can be done (more efficiently) with the following line\n",
    "# F.cross_entropy(logits, Y) # how well neural network currently works with this set of parameters"
   ]
  },
  {
   "cell_type": "code",
   "execution_count": 379,
   "id": "736ad1ba",
   "metadata": {},
   "outputs": [],
   "source": [
    "for p in parameters:\n",
    "    p.requires_grad = True"
   ]
  },
  {
   "cell_type": "code",
   "execution_count": 380,
   "id": "5dec30fb",
   "metadata": {},
   "outputs": [],
   "source": [
    "# step linearly between exponents of possible learning rates and space them exponentially\n",
    "# creates possible learning rates to use\n",
    "lre = torch.linspace(-3, 0, 1000)\n",
    "lrs = 10**lre"
   ]
  },
  {
   "cell_type": "code",
   "execution_count": 381,
   "id": "6d0388ab",
   "metadata": {},
   "outputs": [],
   "source": [
    "lri = []\n",
    "lossi = []\n",
    "stepi = []"
   ]
  },
  {
   "cell_type": "code",
   "execution_count": 382,
   "id": "635cd2a5",
   "metadata": {},
   "outputs": [
    {
     "name": "stdout",
     "output_type": "stream",
     "text": [
      "2.289271593093872\n"
     ]
    }
   ],
   "source": [
    "for i in range(200000):\n",
    "    # minibatch construct of 32 examples\n",
    "    # better to have approximate gradient and take many more steps than exact gradient with fewer steps \n",
    "    ix = torch.randint(0, Xtr.shape[0], (32,))\n",
    "    \n",
    "    # forward pass\n",
    "    emb = C[Xtr[ix]] # (32, 3, 2)\n",
    "    h = torch.tanh(emb.view(-1, 30) @ W1 + b1) # (32, 100)\n",
    "    logits = h @ W2 + b2\n",
    "    loss = F.cross_entropy(logits, Ytr[ix])\n",
    "#     print(loss.item())\n",
    "    \n",
    "    # backward pass\n",
    "    for p in parameters:\n",
    "        p.grad = None\n",
    "    loss.backward()\n",
    "    \n",
    "    # update\n",
    "    # lr = lrs[i]\n",
    "    lr = 0.1 if i < 100000 else 0.01\n",
    "    for p in parameters:\n",
    "        p.data += -lr * p.grad\n",
    "        \n",
    "    # track stats\n",
    "#     lri.append(lre[i])\n",
    "    stepi.append(i)\n",
    "    lossi.append(loss.log10().item())\n",
    "\n",
    "print (loss.item())"
   ]
  },
  {
   "cell_type": "code",
   "execution_count": 368,
   "id": "d9b715c2",
   "metadata": {},
   "outputs": [
    {
     "data": {
      "text/plain": [
       "[<matplotlib.lines.Line2D at 0x21e42a1b6d0>]"
      ]
     },
     "execution_count": 368,
     "metadata": {},
     "output_type": "execute_result"
    },
    {
     "data": {
      "image/png": "[encoded data removed]",
      "text/plain": [
       "<Figure size 640x480 with 1 Axes>"
      ]
     },
     "metadata": {},
     "output_type": "display_data"
    }
   ],
   "source": [
    "plt.plot(stepi, lossi)"
   ]
  },
  {
   "cell_type": "code",
   "execution_count": 383,
   "id": "b5e4cfce",
   "metadata": {},
   "outputs": [
    {
     "name": "stdout",
     "output_type": "stream",
     "text": [
      "torch.Size([182625, 3, 10])\n"
     ]
    },
    {
     "data": {
      "text/plain": [
       "tensor(2.1327, grad_fn=<NllLossBackward0>)"
      ]
     },
     "execution_count": 383,
     "metadata": {},
     "output_type": "execute_result"
    }
   ],
   "source": [
    "emb = C[Xtr] # (32, 3, 2)\n",
    "print(emb.shape)\n",
    "h = torch.tanh(emb.view(-1, 30) @ W1 + b1) # (32, 100)\n",
    "logits = h @ W2 + b2\n",
    "loss = F.cross_entropy(logits, Ytr)\n",
    "loss"
   ]
  },
  {
   "cell_type": "code",
   "execution_count": 384,
   "id": "dd5bce37",
   "metadata": {},
   "outputs": [
    {
     "name": "stdout",
     "output_type": "stream",
     "text": [
      "torch.Size([22655, 3, 10])\n"
     ]
    },
    {
     "data": {
      "text/plain": [
       "tensor(2.1734, grad_fn=<NllLossBackward0>)"
      ]
     },
     "execution_count": 384,
     "metadata": {},
     "output_type": "execute_result"
    }
   ],
   "source": [
    "emb = C[Xdev] # (32, 3, 2)\n",
    "print(emb.shape)\n",
    "h = torch.tanh(emb.view(-1, 30) @ W1 + b1) # (32, 100)\n",
    "logits = h @ W2 + b2\n",
    "loss = F.cross_entropy(logits, Ydev)\n",
    "loss"
   ]
  },
  {
   "cell_type": "code",
   "execution_count": 370,
   "id": "bd7d6265",
   "metadata": {},
   "outputs": [
    {
     "data": {
      "image/png": "[encoded data removed]",
      "text/plain": [
       "<Figure size 800x800 with 1 Axes>"
      ]
     },
     "metadata": {},
     "output_type": "display_data"
    }
   ],
   "source": [
    "# visualize dimensions 0 and 1 of the embedding matrix C for all characters\n",
    "plt.figure(figsize=(8,8))\n",
    "plt.scatter(C[:,0].data, C[:,1].data, s=200)\n",
    "for i in range(C.shape[0]):\n",
    "    plt.text(C[i,0].item(), C[i,1].item(), itos[i], ha=\"center\", va=\"center\", color='white')\n",
    "plt.grid('minor')"
   ]
  },
  {
   "cell_type": "code",
   "execution_count": null,
   "id": "37862d98",
   "metadata": {},
   "outputs": [],
   "source": [
    "# training split, dev/validation split, test split\n",
    "# ~ 80%, 10%, 10%"
   ]
  }
 ],
 "metadata": {
  "kernelspec": {
   "display_name": "Python 3 (ipykernel)",
   "language": "python",
   "name": "python3"
  },
  "language_info": {
   "codemirror_mode": {
    "name": "ipython",
    "version": 3
   },
   "file_extension": ".py",
   "mimetype": "text/x-python",
   "name": "python",
   "nbconvert_exporter": "python",
   "pygments_lexer": "ipython3",
   "version": "3.10.9"
  }
 },
 "nbformat": 4,
 "nbformat_minor": 5
}
